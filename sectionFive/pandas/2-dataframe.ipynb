{
 "cells": [
  {
   "cell_type": "code",
   "execution_count": 6,
   "id": "bcf06246",
   "metadata": {},
   "outputs": [],
   "source": [
    "import pandas as pd"
   ]
  },
  {
   "cell_type": "code",
   "execution_count": 11,
   "id": "e4276842",
   "metadata": {},
   "outputs": [],
   "source": [
    "base = {\n",
    "    'Nome': ['Alice', 'Bob', 'Chalie'],\n",
    "    'idade': [24, 30, 22],\n",
    "    'Cidade': ['São Paulo', 'Rio de Janeiro', 'Belo Horizonte']\n",
    "}"
   ]
  },
  {
   "cell_type": "code",
   "execution_count": 12,
   "id": "ad16d797",
   "metadata": {},
   "outputs": [
    {
     "name": "stdout",
     "output_type": "stream",
     "text": [
      "     Nome  idade          Cidade\n",
      "0   Alice     24       São Paulo\n",
      "1     Bob     30  Rio de Janeiro\n",
      "2  Chalie     22  Belo Horizonte\n"
     ]
    }
   ],
   "source": [
    "df = pd.DataFrame(base)\n",
    "print(df)"
   ]
  },
  {
   "cell_type": "code",
   "execution_count": 17,
   "id": "148882a1",
   "metadata": {},
   "outputs": [],
   "source": [
    "dados_notas = {\n",
    "    'Aluno': ['Alice', 'Bob', 'Chalie'],\n",
    "    'Nota_Matematica': [85, 90, 78],\n",
    "    'Nota_Fisica': [88, 92, 80],\n",
    "    'Nota_Quimica': [90, 85, 82],\n",
    "    'Nota_Historia': [87, 89, 84]\n",
    "}   "
   ]
  },
  {
   "cell_type": "code",
   "execution_count": 18,
   "id": "fe87be95",
   "metadata": {},
   "outputs": [],
   "source": [
    "df_notas = pd.DataFrame(dados_notas)"
   ]
  },
  {
   "cell_type": "code",
   "execution_count": 19,
   "id": "ac72b789",
   "metadata": {},
   "outputs": [
    {
     "data": {
      "text/html": [
       "<div>\n",
       "<style scoped>\n",
       "    .dataframe tbody tr th:only-of-type {\n",
       "        vertical-align: middle;\n",
       "    }\n",
       "\n",
       "    .dataframe tbody tr th {\n",
       "        vertical-align: top;\n",
       "    }\n",
       "\n",
       "    .dataframe thead th {\n",
       "        text-align: right;\n",
       "    }\n",
       "</style>\n",
       "<table border=\"1\" class=\"dataframe\">\n",
       "  <thead>\n",
       "    <tr style=\"text-align: right;\">\n",
       "      <th></th>\n",
       "      <th>Aluno</th>\n",
       "      <th>Nota_Matematica</th>\n",
       "      <th>Nota_Fisica</th>\n",
       "      <th>Nota_Quimica</th>\n",
       "      <th>Nota_Historia</th>\n",
       "    </tr>\n",
       "  </thead>\n",
       "  <tbody>\n",
       "    <tr>\n",
       "      <th>0</th>\n",
       "      <td>Alice</td>\n",
       "      <td>85</td>\n",
       "      <td>88</td>\n",
       "      <td>90</td>\n",
       "      <td>87</td>\n",
       "    </tr>\n",
       "    <tr>\n",
       "      <th>1</th>\n",
       "      <td>Bob</td>\n",
       "      <td>90</td>\n",
       "      <td>92</td>\n",
       "      <td>85</td>\n",
       "      <td>89</td>\n",
       "    </tr>\n",
       "    <tr>\n",
       "      <th>2</th>\n",
       "      <td>Chalie</td>\n",
       "      <td>78</td>\n",
       "      <td>80</td>\n",
       "      <td>82</td>\n",
       "      <td>84</td>\n",
       "    </tr>\n",
       "  </tbody>\n",
       "</table>\n",
       "</div>"
      ],
      "text/plain": [
       "    Aluno  Nota_Matematica  Nota_Fisica  Nota_Quimica  Nota_Historia\n",
       "0   Alice               85           88            90             87\n",
       "1     Bob               90           92            85             89\n",
       "2  Chalie               78           80            82             84"
      ]
     },
     "execution_count": 19,
     "metadata": {},
     "output_type": "execute_result"
    }
   ],
   "source": [
    "df_notas"
   ]
  },
  {
   "cell_type": "code",
   "execution_count": 20,
   "id": "9a2fba02",
   "metadata": {},
   "outputs": [
    {
     "data": {
      "text/html": [
       "<div>\n",
       "<style scoped>\n",
       "    .dataframe tbody tr th:only-of-type {\n",
       "        vertical-align: middle;\n",
       "    }\n",
       "\n",
       "    .dataframe tbody tr th {\n",
       "        vertical-align: top;\n",
       "    }\n",
       "\n",
       "    .dataframe thead th {\n",
       "        text-align: right;\n",
       "    }\n",
       "</style>\n",
       "<table border=\"1\" class=\"dataframe\">\n",
       "  <thead>\n",
       "    <tr style=\"text-align: right;\">\n",
       "      <th></th>\n",
       "      <th>Aluno</th>\n",
       "      <th>Nota_Matematica</th>\n",
       "      <th>Nota_Fisica</th>\n",
       "      <th>Nota_Quimica</th>\n",
       "      <th>Nota_Historia</th>\n",
       "      <th>Media</th>\n",
       "    </tr>\n",
       "  </thead>\n",
       "  <tbody>\n",
       "    <tr>\n",
       "      <th>0</th>\n",
       "      <td>Alice</td>\n",
       "      <td>85</td>\n",
       "      <td>88</td>\n",
       "      <td>90</td>\n",
       "      <td>87</td>\n",
       "      <td>87.5</td>\n",
       "    </tr>\n",
       "    <tr>\n",
       "      <th>1</th>\n",
       "      <td>Bob</td>\n",
       "      <td>90</td>\n",
       "      <td>92</td>\n",
       "      <td>85</td>\n",
       "      <td>89</td>\n",
       "      <td>89.0</td>\n",
       "    </tr>\n",
       "    <tr>\n",
       "      <th>2</th>\n",
       "      <td>Chalie</td>\n",
       "      <td>78</td>\n",
       "      <td>80</td>\n",
       "      <td>82</td>\n",
       "      <td>84</td>\n",
       "      <td>81.0</td>\n",
       "    </tr>\n",
       "  </tbody>\n",
       "</table>\n",
       "</div>"
      ],
      "text/plain": [
       "    Aluno  Nota_Matematica  Nota_Fisica  Nota_Quimica  Nota_Historia  Media\n",
       "0   Alice               85           88            90             87   87.5\n",
       "1     Bob               90           92            85             89   89.0\n",
       "2  Chalie               78           80            82             84   81.0"
      ]
     },
     "execution_count": 20,
     "metadata": {},
     "output_type": "execute_result"
    }
   ],
   "source": [
    "# calcular a média das notas de cada aluno\n",
    "df_notas['Media'] = df_notas[['Nota_Matematica', 'Nota_Fisica', 'Nota_Quimica', 'Nota_Historia']].mean(axis=1)\n",
    "df_notas    "
   ]
  },
  {
   "cell_type": "code",
   "execution_count": 21,
   "id": "788880b7",
   "metadata": {},
   "outputs": [
    {
     "data": {
      "text/html": [
       "<div>\n",
       "<style scoped>\n",
       "    .dataframe tbody tr th:only-of-type {\n",
       "        vertical-align: middle;\n",
       "    }\n",
       "\n",
       "    .dataframe tbody tr th {\n",
       "        vertical-align: top;\n",
       "    }\n",
       "\n",
       "    .dataframe thead th {\n",
       "        text-align: right;\n",
       "    }\n",
       "</style>\n",
       "<table border=\"1\" class=\"dataframe\">\n",
       "  <thead>\n",
       "    <tr style=\"text-align: right;\">\n",
       "      <th></th>\n",
       "      <th>Aluno</th>\n",
       "      <th>Nota_Matematica</th>\n",
       "      <th>Nota_Fisica</th>\n",
       "      <th>Nota_Quimica</th>\n",
       "      <th>Nota_Historia</th>\n",
       "      <th>Media</th>\n",
       "      <th>Aprovado</th>\n",
       "    </tr>\n",
       "  </thead>\n",
       "  <tbody>\n",
       "    <tr>\n",
       "      <th>0</th>\n",
       "      <td>Alice</td>\n",
       "      <td>85</td>\n",
       "      <td>88</td>\n",
       "      <td>90</td>\n",
       "      <td>87</td>\n",
       "      <td>87.5</td>\n",
       "      <td>True</td>\n",
       "    </tr>\n",
       "    <tr>\n",
       "      <th>1</th>\n",
       "      <td>Bob</td>\n",
       "      <td>90</td>\n",
       "      <td>92</td>\n",
       "      <td>85</td>\n",
       "      <td>89</td>\n",
       "      <td>89.0</td>\n",
       "      <td>True</td>\n",
       "    </tr>\n",
       "    <tr>\n",
       "      <th>2</th>\n",
       "      <td>Chalie</td>\n",
       "      <td>78</td>\n",
       "      <td>80</td>\n",
       "      <td>82</td>\n",
       "      <td>84</td>\n",
       "      <td>81.0</td>\n",
       "      <td>False</td>\n",
       "    </tr>\n",
       "  </tbody>\n",
       "</table>\n",
       "</div>"
      ],
      "text/plain": [
       "    Aluno  Nota_Matematica  Nota_Fisica  Nota_Quimica  Nota_Historia  Media  \\\n",
       "0   Alice               85           88            90             87   87.5   \n",
       "1     Bob               90           92            85             89   89.0   \n",
       "2  Chalie               78           80            82             84   81.0   \n",
       "\n",
       "   Aprovado  \n",
       "0      True  \n",
       "1      True  \n",
       "2     False  "
      ]
     },
     "execution_count": 21,
     "metadata": {},
     "output_type": "execute_result"
    }
   ],
   "source": [
    "# identificar alunos aprovados (média >= 85)\n",
    "df_notas['Aprovado'] = df_notas['Media'] >= 85\n",
    "df_notas"
   ]
  },
  {
   "cell_type": "code",
   "execution_count": 22,
   "id": "3dfb6eb6",
   "metadata": {},
   "outputs": [
    {
     "data": {
      "text/html": [
       "<div>\n",
       "<style scoped>\n",
       "    .dataframe tbody tr th:only-of-type {\n",
       "        vertical-align: middle;\n",
       "    }\n",
       "\n",
       "    .dataframe tbody tr th {\n",
       "        vertical-align: top;\n",
       "    }\n",
       "\n",
       "    .dataframe thead th {\n",
       "        text-align: right;\n",
       "    }\n",
       "</style>\n",
       "<table border=\"1\" class=\"dataframe\">\n",
       "  <thead>\n",
       "    <tr style=\"text-align: right;\">\n",
       "      <th></th>\n",
       "      <th>Aluno</th>\n",
       "      <th>Media</th>\n",
       "      <th>Aprovado</th>\n",
       "    </tr>\n",
       "  </thead>\n",
       "  <tbody>\n",
       "    <tr>\n",
       "      <th>0</th>\n",
       "      <td>Alice</td>\n",
       "      <td>87.5</td>\n",
       "      <td>True</td>\n",
       "    </tr>\n",
       "    <tr>\n",
       "      <th>1</th>\n",
       "      <td>Bob</td>\n",
       "      <td>89.0</td>\n",
       "      <td>True</td>\n",
       "    </tr>\n",
       "    <tr>\n",
       "      <th>2</th>\n",
       "      <td>Chalie</td>\n",
       "      <td>81.0</td>\n",
       "      <td>False</td>\n",
       "    </tr>\n",
       "  </tbody>\n",
       "</table>\n",
       "</div>"
      ],
      "text/plain": [
       "    Aluno  Media  Aprovado\n",
       "0   Alice   87.5      True\n",
       "1     Bob   89.0      True\n",
       "2  Chalie   81.0     False"
      ]
     },
     "execution_count": 22,
     "metadata": {},
     "output_type": "execute_result"
    }
   ],
   "source": [
    "# exibir a média e os alunos aprovados\n",
    "df_notas[['Aluno', 'Media', 'Aprovado']]\n"
   ]
  }
 ],
 "metadata": {
  "kernelspec": {
   "display_name": "Python 3",
   "language": "python",
   "name": "python3"
  },
  "language_info": {
   "codemirror_mode": {
    "name": "ipython",
    "version": 3
   },
   "file_extension": ".py",
   "mimetype": "text/x-python",
   "name": "python",
   "nbconvert_exporter": "python",
   "pygments_lexer": "ipython3",
   "version": "3.13.5"
  }
 },
 "nbformat": 4,
 "nbformat_minor": 5
}
