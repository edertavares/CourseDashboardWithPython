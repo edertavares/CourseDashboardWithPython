{
 "cells": [
  {
   "cell_type": "code",
   "execution_count": 1,
   "id": "458aa436",
   "metadata": {},
   "outputs": [],
   "source": [
    "import pandas as pd"
   ]
  },
  {
   "cell_type": "code",
   "execution_count": 2,
   "id": "4121e8dc",
   "metadata": {},
   "outputs": [
    {
     "data": {
      "text/plain": [
       "0    10\n",
       "1    20\n",
       "2    30\n",
       "3    40\n",
       "4    50\n",
       "dtype: int64"
      ]
     },
     "execution_count": 2,
     "metadata": {},
     "output_type": "execute_result"
    }
   ],
   "source": [
    "dados = [10, 20, 30, 40, 50]\n",
    "series = pd.Series(dados)\n",
    "series"
   ]
  },
  {
   "cell_type": "code",
   "execution_count": 4,
   "id": "507df52c",
   "metadata": {},
   "outputs": [
    {
     "data": {
      "text/plain": [
       "pandas.core.series.Series"
      ]
     },
     "execution_count": 4,
     "metadata": {},
     "output_type": "execute_result"
    }
   ],
   "source": [
    "type(series)"
   ]
  },
  {
   "cell_type": "code",
   "execution_count": null,
   "id": "2a3a6cbf",
   "metadata": {},
   "outputs": [
    {
     "data": {
      "text/plain": [
       "Jan    2500\n",
       "Fev    2750\n",
       "Mar    4300\n",
       "Abr    2800\n",
       "Mai    5000\n",
       "Jun    5250\n",
       "Jul    5180\n",
       "Ago    5500\n",
       "Set    5002\n",
       "Out    4800\n",
       "Nov    4750\n",
       "Dez    4900\n",
       "dtype: int64"
      ]
     },
     "execution_count": 5,
     "metadata": {},
     "output_type": "execute_result"
    }
   ],
   "source": [
    "# Criando uma Series com índices personalizados\n",
    "vendas_mesais = pd.Series(\n",
    "    [2500, 2750, 4300, 2800, 5000, 5250, 5180, 5500, 5002, 4800, 4750, 4900],\n",
    "    index=[\n",
    "        \"Jan\", \"Fev\", \"Mar\", \"Abr\", \"Mai\", \"Jun\", \"Jul\", \"Ago\", \"Set\", \"Out\", \"Nov\", \"Dez\"]\n",
    ")\n",
    "\n",
    "vendas_mesais "
   ]
  },
  {
   "cell_type": "code",
   "execution_count": null,
   "id": "815d6e36",
   "metadata": {},
   "outputs": [
    {
     "name": "stdout",
     "output_type": "stream",
     "text": [
      "4394.33\n"
     ]
    }
   ],
   "source": [
    "# Calcular e exibir a média de vendas \n",
    "media_vendas = vendas_mesais.mean()\n",
    "#media_vendas\n",
    "print(f\"{media_vendas:.2f}\")\n"
   ]
  },
  {
   "cell_type": "code",
   "execution_count": 9,
   "id": "72ce4207",
   "metadata": {},
   "outputs": [
    {
     "name": "stdout",
     "output_type": "stream",
     "text": [
      "Mês com maior venda: Ago\n"
     ]
    }
   ],
   "source": [
    "# identificando o mês com maior venda\n",
    "mes_maior_venda = vendas_mesais.idxmax()\n",
    "print(f\"Mês com maior venda: {mes_maior_venda}\")"
   ]
  },
  {
   "cell_type": "code",
   "execution_count": null,
   "id": "79e8487a",
   "metadata": {},
   "outputs": [],
   "source": [
    "# exibir as vendas acima da média\n",
    "vendas_acima_media = vendas_mesais[vendas_mesais > media_vendas]\n",
    "print(\"Vendas acima da média:\")\n",
    "print(vendas_acima_media)\n"
   ]
  }
 ],
 "metadata": {
  "kernelspec": {
   "display_name": "Python 3",
   "language": "python",
   "name": "python3"
  },
  "language_info": {
   "codemirror_mode": {
    "name": "ipython",
    "version": 3
   },
   "file_extension": ".py",
   "mimetype": "text/x-python",
   "name": "python",
   "nbconvert_exporter": "python",
   "pygments_lexer": "ipython3",
   "version": "3.13.5"
  }
 },
 "nbformat": 4,
 "nbformat_minor": 5
}
